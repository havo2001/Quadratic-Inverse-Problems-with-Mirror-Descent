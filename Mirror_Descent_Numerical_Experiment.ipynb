{
  "nbformat": 4,
  "nbformat_minor": 0,
  "metadata": {
    "colab": {
      "provenance": [],
      "gpuType": "T4"
    },
    "kernelspec": {
      "name": "python3",
      "display_name": "Python 3"
    },
    "language_info": {
      "name": "python"
    },
    "accelerator": "GPU"
  },
  "cells": [
    {
      "cell_type": "markdown",
      "source": [
        "# The first case when $g(x) = 0$\n",
        "\n"
      ],
      "metadata": {
        "id": "q-zjhzSpcKTM"
      }
    },
    {
      "cell_type": "markdown",
      "source": [
        "Composite function:\n",
        "\\begin{equation}\n",
        "    \\min_{x \\in Q} f(x) + g(x)\n",
        "\\end{equation}\n",
        "where $g(x) \\equiv 0$, $f(x)$ - relatively smooth function respect to some distance generating function.\n",
        "\n"
      ],
      "metadata": {
        "id": "WnN5767LGisY"
      }
    },
    {
      "cell_type": "markdown",
      "source": [
        "### Compute $g(x)$, $∇g(x)$:\n",
        "Consider function where $x \\in Q$, $ A_{i}  \\in \\mathbb{R}^{n \\times n}$ is symmetric :\n",
        "\\begin{equation}\n",
        "    g(x) = \\frac{1}{4}\\sum_{k=1}^{m} (x^{T}A_{i}x - b_{i})^{2}\n",
        "\\end{equation}\n",
        "We need to find:\n",
        "\\begin{equation}\n",
        "\\min_{x \\in Q} g(x)\n",
        "\\end{equation}"
      ],
      "metadata": {
        "id": "WlUxXt00TTu_"
      }
    },
    {
      "cell_type": "markdown",
      "source": [
        "Compute the gradient of g:\n",
        "\\begin{equation}\n",
        "    \\nabla g(x) = \\sum_{k=1}^{m} (x^{T}A_{i}x - b_{i})A_{i}x\n",
        "\\end{equation}"
      ],
      "metadata": {
        "id": "z70UeXShXT7H"
      }
    },
    {
      "cell_type": "code",
      "source": [
        "import numpy as np\n",
        "import jax.numpy as jnp\n",
        "from jax import grad"
      ],
      "metadata": {
        "id": "3jhSuDxAdZb0"
      },
      "execution_count": null,
      "outputs": []
    },
    {
      "cell_type": "code",
      "source": [
        "# Compute the value of g(x)\n",
        "# def g(x: jnp.ndarray, A: jnp.ndarray, b: jnp.ndarray) -> jnp.float32:\n",
        "#     def single_term(Ai, bi):\n",
        "#         return (1/4) * (jnp.dot(x.T, jnp.dot(Ai, x)) - bi) ** 2\n",
        "#     return jnp.sum(jnp.array([single_term(Ai, bi) for Ai, bi in zip(A, b)]))\n",
        "def g(x: np.array, A: np.array, b: np.array) -> np.float32:\n",
        "    return np.sum(1/4 * (x.T @ A @ x - b) ** 2)\n"
      ],
      "metadata": {
        "id": "N7-eTgM1XOpQ"
      },
      "execution_count": null,
      "outputs": []
    },
    {
      "cell_type": "code",
      "source": [
        "\n",
        "# Compute the gradient of g(x) given x\n",
        "def grad_g(x: np.array, A: np.array, b: np.array) -> np.array:\n",
        "  return np.sum([((x.T @ Ai @ x - bi) * Ai @ x) for Ai, bi in zip(A, b)], axis=0)"
      ],
      "metadata": {
        "id": "nvTSE2VDmYUh"
      },
      "execution_count": null,
      "outputs": []
    },
    {
      "cell_type": "markdown",
      "source": [
        "### Compute $h(x)$, $∇h(x)$, $D(y,x)$:\n",
        "Function h:\n",
        "\\begin{equation}\n",
        "    h(x) = \\frac{1}{4} \\|x\\|_2^4 + \\frac{1}{2}\\|x\\|_2^2\n",
        "\\end{equation}\n",
        "Compute the gradient of d:\n",
        "\\begin{equation}\n",
        "    \\nabla h(x) = (\\|x\\|_2^2 + 1)x\n",
        "\\end{equation}\n",
        "\n",
        "Bregman divergence d:\n",
        "\\begin{equation}\n",
        "    D(y,x) = h(y) - h(x) - \\langle \\nabla h(x), y - x \\rangle\n",
        "\\end{equation}"
      ],
      "metadata": {
        "id": "d-HWW_8lrmVe"
      }
    },
    {
      "cell_type": "code",
      "source": [
        "# Compute the value of h(x):\n",
        "# def h(x: jnp.ndarray) -> jnp.float32:\n",
        "#     l2_norm = jnp.linalg.norm(x)\n",
        "#     return 1/4 * l2_norm ** 4 + 1/2 * l2_norm ** 2\n",
        "def h(x: np.array) -> np.float32:\n",
        "  l2_norm = np.linalg.norm(x)\n",
        "  return 1/4 * l2_norm ** 4 + 1/2 * l2_norm ** 2"
      ],
      "metadata": {
        "id": "Not0mwJYtHF9"
      },
      "execution_count": null,
      "outputs": []
    },
    {
      "cell_type": "code",
      "source": [
        "# Compute the gradient of h(x):\n",
        "def grad_h(x: np.array) -> np.array:\n",
        "  l2_norm = np.linalg.norm(x)\n",
        "  return (l2_norm ** 2 + 1) * x\n",
        "# grad_g = grad(g)\n",
        "# grad_h = grad(h)"
      ],
      "metadata": {
        "id": "OI2wT-3pthL2"
      },
      "execution_count": null,
      "outputs": []
    },
    {
      "cell_type": "code",
      "source": [
        "# Compute Bregman divergence:\n",
        "# def D(y: jnp.ndarray, x: jnp.ndarray) -> jnp.float32:\n",
        "#     return h(y) - h(x) - jnp.dot(grad_h(x), y - x)\n",
        "def D(y, x):\n",
        "  return h(y) - h(x) - grad_h(x) @ (y - x)"
      ],
      "metadata": {
        "id": "t3wSZdIc2PFk"
      },
      "execution_count": null,
      "outputs": []
    },
    {
      "cell_type": "markdown",
      "source": [
        "### L-smad condition:\n",
        "<br>\n",
        "Lemma 5.1: Let $g$ and $h$ as defined above. Then, for any $L$ satisfying:\n",
        "\\begin{equation}\n",
        "    L \\geq \\sum_{k=1}^{m} (3\\|A_i\\|^2+\\|A_i\\||b_i|)\n",
        "\\end{equation}\n",
        "the function $Lh - g$ is convex on $\\mathbb{R}^n$\n"
      ],
      "metadata": {
        "id": "36oquF4JJLvH"
      }
    },
    {
      "cell_type": "code",
      "source": [
        "# Compute the L min value\n",
        "# def L_min(A: jnp.ndarray, b: jnp.ndarray) -> jnp.float32:\n",
        "#     norms_A = jnp.array([jnp.linalg.norm(matrix) for matrix in A])\n",
        "#     return jnp.sum(3 * norms_A ** 2 + norms_A * b)\n",
        "def L_min(A: np.array, b: np.array) -> np.float32:\n",
        "  norms_A = np.array([np.linalg.norm(matrix) for matrix in A])\n",
        "  return np.sum(3 * norms_A ** 2 + norms_A * b)"
      ],
      "metadata": {
        "id": "LdTno8Q_KNuo"
      },
      "execution_count": null,
      "outputs": []
    },
    {
      "cell_type": "markdown",
      "source": [
        "### Compute argmin:\n",
        "Using Proposition 5.1. Consider $f = 0 = θ\\|.\\|_1$ and $θ = 0$:\n",
        "\n",
        "\\begin{equation}\n",
        "    T(x) = \\textrm{arg min}_{u \\in Q} \\{\\langle \\nabla g(x), u - x \\rangle + LD(u, x)\\}\n",
        "\\end{equation}\n",
        "\n",
        "\\begin{equation}\n",
        "    p = p_L(x) = \\frac{1}{L}∇g(x) - ∇h(x)\n",
        "\\end{equation}\n",
        "\n",
        "\n",
        "Using result from Proposition 5.1, we obtain that if we want to get:\n",
        "\\begin{equation}\n",
        "    x^+ = \\textrm{arg min}_{u \\in Q} \\{\\langle p,u \\rangle + \\frac{1}{4} \\|x\\|_2^4 + \\frac{1}{2}\\|x\\|_2^2\\}\n",
        "\\end{equation}\n",
        "\n",
        "then, by the first order global optimality condition for the\n",
        "strongly convex problem:\n",
        "\\begin{equation}\n",
        "    x_i^+(1 + \\|x\\|_2^2) + p_i = 0\n",
        "\\end{equation}\n",
        "<br>\n",
        "Using Proposition 5.1:\n",
        "\\begin{equation}\n",
        "    v(x) := S_0(p) = \\textrm{arg min}_{x \\in Q} \\{\\frac{1}{2}\\|x - p\\|_2^2\\} = \\max \\left\\{ \\left| p \\right|, 0 \\right\\}\\operatorname{sgn}(p) = p\n",
        "\\end{equation}\n",
        "<br>\n",
        "So in this case $x^+ = -tv(x) = -tp$, where $t$ will be the positive root of:\n",
        "\\begin{equation}\n",
        "    t^3\\|p\\|_2^2+t-1=0, p = \\frac{1}{L}∇g(x) - ∇h(x)\n",
        "\\end{equation}\n",
        "\n",
        "\n"
      ],
      "metadata": {
        "id": "VZx4FJP7Nh4_"
      }
    },
    {
      "cell_type": "markdown",
      "source": [
        "### Solve the depressed cubic equation (Cardano's Method):\n",
        "If we put $\\|p\\|_2^2 = a \\geq 0$, the we get the depressed cubic equation:\n",
        "\\begin{equation}\n",
        "    at^3+t-1=0\n",
        "\\end{equation}\n",
        "which has one positive real root:\n",
        "\\begin{equation}\n",
        "   t = \\sqrt[3]{\\frac{\\frac{1}{a} + \\sqrt{\\frac{1}{a^2} + \\frac{4}{27a^3}}}{2}} - \\sqrt[3]{\\frac{\\frac{-1}{a} + \\sqrt{\\frac{1}{a^2} + \\frac{4}{27a^3}}}{2}}\n",
        "\\end{equation}\n",
        "\n",
        "\\begin{equation}\n",
        "   ⇔ t = \\sqrt[3]{\\frac{\\frac{1}{a} + \\sqrt{\\frac{1}{a^2} + \\frac{4}{27a^3}}}{2}} - \\sqrt[3]{\\frac{\\frac{2}{27a^3}}{(\\frac{1}{a} + \\sqrt{\\frac{1}{a^2} + \\frac{4}{27a^3}})}}\n",
        "\\end{equation}\n",
        "\n",
        "=> This will help solve the case when a >> 1.\n",
        "\n",
        "\n",
        "\n"
      ],
      "metadata": {
        "id": "2osV_5ZgkYey"
      }
    },
    {
      "cell_type": "code",
      "source": [
        "def solve_cubic_equation(a):\n",
        "  if a == 0:\n",
        "    return 1\n",
        "  sqrt = (1/(a**2) + 4/(27*a**3)) ** (1./2.)\n",
        "  x = ((1/a + sqrt)/2)**(1./3.)\n",
        "  y = ((2/(27*a**3))/(1/a + sqrt))**(1./3.)\n",
        "  return x - y"
      ],
      "metadata": {
        "id": "C2GRNex4N8P6"
      },
      "execution_count": null,
      "outputs": []
    },
    {
      "cell_type": "code",
      "source": [
        "print(solve_cubic_equation(4))"
      ],
      "metadata": {
        "colab": {
          "base_uri": "https://localhost:8080/"
        },
        "id": "UJEhBnKKoW_1",
        "outputId": "26e98653-9fac-4e07-e4c0-e84a2f735994"
      },
      "execution_count": null,
      "outputs": [
        {
          "output_type": "stream",
          "name": "stdout",
          "text": [
            "0.5\n"
          ]
        }
      ]
    },
    {
      "cell_type": "code",
      "source": [
        "def grad_inexact(grad, x, Delta):\n",
        "  n = len(x)\n",
        "  delta_grad = np.random.normal(0, 1, (n,))\n",
        "  delta_grad /= np.linalg.norm(delta_grad)\n",
        "  return grad + Delta * delta_grad"
      ],
      "metadata": {
        "id": "6QHSClQ1oaOl"
      },
      "execution_count": null,
      "outputs": []
    },
    {
      "cell_type": "markdown",
      "source": [
        "### Implement the adaptive algorithm:\n",
        "1. Input $x_{0}$, $L_{0}$.\n",
        "2. $L_{k+1} := \\frac{L_{k}}{2}$\n",
        "3. Calculate:\n",
        "$ x_{k+1} \\leftarrow   \\textrm{arg min}_{u \\in Q} \\{ \\langle \\nabla_{\\Delta} g(x_{k}), u - x_{k} \\rangle + L_{k+1}D(u, x_{k})\\} $\n",
        "\n",
        "4. If the following inequality holds:\n",
        "$ g(x_{k+1})  \\leq g(x_{k}) + \\langle \\nabla_{\\Delta} g(x_{k}), x_{k+1}-x_{k} \\rangle + L_{k+1}D(x_{k+1}, x_{k}) + \\Delta $\n",
        "then $k:=k+1$ and go to Step 2. Otherwise, $L_{k + 1} := 2L_{k + 1}$ and go to Step 3.\n",
        "                     \n"
      ],
      "metadata": {
        "id": "YdKudHfbopgI"
      }
    },
    {
      "cell_type": "markdown",
      "source": [
        "### Code:"
      ],
      "metadata": {
        "id": "FnvDBHx8LHL6"
      }
    },
    {
      "cell_type": "code",
      "source": [
        "def adaptiveL(x, L, Delta, A, b):\n",
        "  p = (1/L) * grad_inexact(grad_g(x, A, b), x, Delta) - grad_h(x)\n",
        "  a = np.linalg.norm(p) ** 2\n",
        "  t = solve_cubic_equation(a)\n",
        "  x_new = (-1) * t * p\n",
        "  g_x = g(x, A, b)\n",
        "  while g(x_new, A, b) > g_x + grad_inexact(grad_g(x, A, b), x, Delta) @ (x_new - x) + L * D(x_new, x) + Delta:\n",
        "    L *= 2\n",
        "    p = (1/L) * grad_inexact(grad_g(x, A, b), x, Delta) - grad_h(x)\n",
        "    a = np.linalg.norm(p) ** 2\n",
        "    t = solve_cubic_equation(a)\n",
        "    x_new = (-1) * t * p\n",
        "  return 0.5 * L, x_new, D(x, x_new)\n"
      ],
      "metadata": {
        "id": "urk5Sl8rgn-R"
      },
      "execution_count": null,
      "outputs": []
    },
    {
      "cell_type": "code",
      "source": [
        "import time"
      ],
      "metadata": {
        "id": "aa_9sEmVngpV"
      },
      "execution_count": null,
      "outputs": []
    },
    {
      "cell_type": "code",
      "source": [
        "def algorithm_adaptiveL(x_old, L_old, Delta, A, b, num_iterations = 100):\n",
        "  Fx_N = []\n",
        "  min_V = float('inf')\n",
        "  min_V_numerical = []\n",
        "  min_V_theoretical = []\n",
        "  time_measure = []\n",
        "  f_0 = g(x_old, A, b)\n",
        "  sum_L = 0\n",
        "  for i in range(num_iterations):\n",
        "    # D: V(x_k+1, x_k)\n",
        "    start = time.time()\n",
        "    L_new, x_new, V = adaptiveL(x_old, L_old, Delta, A, b)\n",
        "\n",
        "\n",
        "    f_x = g(x_new, A, b)\n",
        "    Fx_N.append(f_x)\n",
        "    min_V = min(min_V, V)\n",
        "    min_V_numerical.append(min_V)\n",
        "\n",
        "    sum_L += L_new\n",
        "    if i >= 1:\n",
        "      estimate_V_theoretical = (f_0 - f_x) / sum_L + i * Delta / sum_L\n",
        "      min_V_theoretical.append(estimate_V_theoretical)\n",
        "\n",
        "\n",
        "    L_old, x_old = L_new, x_new\n",
        "    end = time.time()\n",
        "    if i == 0:\n",
        "      time_measure.append(end - start)\n",
        "    else:\n",
        "      time_measure.append(time_measure[i - 1] + end - start)\n",
        "\n",
        "  # return L, x, minV\n",
        "  return L_new, x_new, Fx_N, min_V_numerical, min_V_theoretical, time_measure"
      ],
      "metadata": {
        "id": "fnFyM1LIYxSW"
      },
      "execution_count": null,
      "outputs": []
    },
    {
      "cell_type": "markdown",
      "source": [
        "# The second case when $ f(x) \\neq 0$"
      ],
      "metadata": {
        "id": "yevc6VjgcdoO"
      }
    },
    {
      "cell_type": "markdown",
      "source": [
        "Composite function:\n",
        "\\begin{equation}\n",
        "    \\min_{x \\in Q} f(x) + g(x)\n",
        "\\end{equation}\n",
        "where $f = θ\\|.\\|_1$ is a convex l1-norm regularization, $g(x) = \\frac{1}{4}\\sum_{k=1}^{m} (x^{T}A_{i}x - b_{i})^{2}$\n",
        "\n"
      ],
      "metadata": {
        "id": "QeuA3yJ0jhlF"
      }
    },
    {
      "cell_type": "markdown",
      "source": [
        "### Implement the algorithm:\n",
        "1. Input $x_{0}$, $\\lambda$.\n",
        "2. Calculate:\n",
        "$ x_{k+1} \\leftarrow   \\textrm{arg min}_{u \\in Q} \\{f(u) + \\langle \\nabla_{\\Delta} g(x_{k}), u - x_{k} \\rangle + \\frac{1}{\\lambda}D(u, x_{k})\\} $\n",
        "\n",
        "                     \n"
      ],
      "metadata": {
        "id": "uooESTRSkL1O"
      }
    },
    {
      "cell_type": "markdown",
      "source": [
        "### Compute argmin:\n",
        "Using Proposition 5.1. (Bregman Proximal Formula for the l1-norm regularization) Consider $f = θ\\|.\\|_1$:\n",
        "\n",
        "\\begin{equation}\n",
        "    x^+ = \\textrm{arg min}_{u \\in Q} \\{θ\\|u\\|_1 + \\langle \\nabla g(x), u - x \\rangle + \\frac{1}{\\lambda}D(u, x)\\}\n",
        "\\end{equation}\n",
        "\n",
        "\\begin{equation}\n",
        "    p = p_\\lambda(x) = \\lambda∇g(x) - ∇h(x)\n",
        "\\end{equation}\n",
        "\n",
        "\n",
        "We want to obtain $x^+$ such that:\n",
        "\\begin{equation}\n",
        "    x^+ = \\textrm{arg min}_{u \\in Q} \\{\\lambdaθ\\|u\\|_1 + \\langle p,u \\rangle + \\frac{1}{4} \\|x\\|_2^4 + \\frac{1}{2}\\|x\\|_2^2\\}\n",
        "\\end{equation}\n",
        "\n",
        "Using result from Proposition 5.1:\n",
        "\\begin{equation}\n",
        "    x^+ = -t^*v(x)\n",
        "\\end{equation}\n",
        "where,\n",
        "\\begin{equation}\n",
        "    \\ v(x):=S_{\\lambdaθ}(p) := \\textrm{arg min}_{x \\in Q} \\{\\lambdaθ\\|x\\|_1 + \\frac{1}{2}\\|x - p\\|_2^2\\} = \\max \\left\\{ \\left| p \\right| - \\lambdaθ, 0 \\right\\}\\operatorname{sgn}(p)\n",
        "\\end{equation}\n",
        "and $t^*$ is the positive root of equation:\n",
        "\\begin{equation}\n",
        "    t^3\\|v\\|_2^2+t-1=0, p = \\lambda∇g(x) - ∇h(x)\n",
        "\\end{equation}"
      ],
      "metadata": {
        "id": "K9h8wEkRc7pv"
      }
    },
    {
      "cell_type": "markdown",
      "source": [
        "Soft-thresholding (with parameter $τ$ ). For any $y ∈ R$:\n",
        "\\begin{equation}\n",
        "S_τ(y) = \\textrm{arg min}_{x \\in Q} \\{\\tau\\|x\\|_1 + \\frac{1}{2}\\|x - y\\|_2^2\\} = \\max \\left\\{ \\left| y \\right| - \\tau, 0 \\right\\}\\operatorname{sgn}(y)\n",
        "\\end{equation}"
      ],
      "metadata": {
        "id": "LavXpORGed7S"
      }
    },
    {
      "cell_type": "code",
      "source": [
        "def soft_thresholding(tau, y: np.array) -> np.array:\n",
        "  return np.maximum(np.abs(y) - tau, 0) * np.sign(y)"
      ],
      "metadata": {
        "id": "BjbnF74meA4S"
      },
      "execution_count": null,
      "outputs": []
    },
    {
      "cell_type": "code",
      "source": [
        "def algorithm_composite_problem(x_old, lamb, Delta, theta, A, b, num_iterations):\n",
        "  Fx_N = []\n",
        "  min_V = float('inf')\n",
        "  min_V_numerical = []\n",
        "  min_V_theoretical = []\n",
        "  f_0 = theta * np.linalg.norm(x_old, ord=1) + g(x_old, A, b)\n",
        "  for i in range(num_iterations):\n",
        "    p = lamb * grad_inexact(grad_g(x_old, A, b), x_old, Delta) - grad_h(x_old)\n",
        "    v_x = soft_thresholding(lamb * theta, p)\n",
        "    a = np.linalg.norm(v_x) ** 2\n",
        "    t = solve_cubic_equation(a)\n",
        "    x_new = (-1) * t * v_x\n",
        "    V = D(x_old, x_new)\n",
        "\n",
        "\n",
        "    f_x = theta * np.linalg.norm(x_new, ord=1) + g(x_new, A, b)\n",
        "    Fx_N.append(f_x)\n",
        "    min_V = min(min_V, V)\n",
        "    min_V_numerical.append(min_V)\n",
        "\n",
        "    if i >= 1:\n",
        "      estimate_V_theoretical = (f_0 - f_x) * lamb / i + Delta * lamb\n",
        "      min_V_theoretical.append(estimate_V_theoretical)\n",
        "\n",
        "\n",
        "    x_old = x_new\n",
        "\n",
        "  return x_new, Fx_N, min_V_numerical, min_V_theoretical"
      ],
      "metadata": {
        "id": "4O2m84I3zWaK"
      },
      "execution_count": null,
      "outputs": []
    },
    {
      "cell_type": "code",
      "source": [
        "# def adaptiveL(x, L, Delta, A, b):\n",
        "#   p = (1/L) * grad_inexact(grad_g(x, A, b), x, Delta) - grad_h(x)\n",
        "#   a = np.linalg.norm(p) ** 2\n",
        "#   t = solve_cubic_equation(a)\n",
        "#   x_new = (-1) * t * p\n",
        "#   g_x = g(x, A, b)\n",
        "#   while g(x_new, A, b) > g_x + grad_inexact(grad_g(x, A, b), x, Delta) @ (x_new - x) + L * D(x_new, x) + Delta:\n",
        "#     L *= 2\n",
        "#     p = (1/L) * grad_inexact(grad_g(x, A, b), x, Delta) - grad_h(x)\n",
        "#     a = np.linalg.norm(p) ** 2\n",
        "#     t = solve_cubic_equation(a)\n",
        "#     x_new = (-1) * t * p\n",
        "#   return 0.5 * L, x_new, D(x_new, x)\n"
      ],
      "metadata": {
        "id": "myyrzm_IpGkQ"
      },
      "execution_count": null,
      "outputs": []
    },
    {
      "cell_type": "code",
      "source": [
        "def non_adaptive_algorithm(x_old, lamb, Delta, A, b, num_iterations):\n",
        "  Fx_N = []\n",
        "  min_V = float('inf')\n",
        "  min_V_numerical = []\n",
        "  min_V_theoretical = []\n",
        "  time_measure = []\n",
        "  f_0 = g(x_old, A, b)\n",
        "  for i in range(num_iterations):\n",
        "    start = time.time()\n",
        "    p = lamb * grad_inexact(grad_g(x_old, A, b), x_old, Delta) - grad_h(x_old)\n",
        "    a = np.linalg.norm(p) ** 2\n",
        "    t = solve_cubic_equation(a)\n",
        "    x_new = (-1) * t * p\n",
        "    V = D(x_old, x_new)\n",
        "\n",
        "\n",
        "    f_x = g(x_new, A, b)\n",
        "    Fx_N.append(f_x)\n",
        "    min_V = min(min_V, V)\n",
        "    min_V_numerical.append(min_V)\n",
        "\n",
        "    if i >= 1:\n",
        "      estimate_V_theoretical = (f_0 - f_x) * lamb / i + Delta * lamb\n",
        "      min_V_theoretical.append(estimate_V_theoretical)\n",
        "\n",
        "    x_old = x_new\n",
        "    end = time.time()\n",
        "    if i == 0:\n",
        "      time_measure.append(end - start)\n",
        "    else:\n",
        "      time_measure.append(time_measure[i - 1] + end - start)\n",
        "  return x_new, Fx_N, min_V_numerical, min_V_theoretical, time_measure\n"
      ],
      "metadata": {
        "id": "wp2J7aLFo780"
      },
      "execution_count": null,
      "outputs": []
    },
    {
      "cell_type": "code",
      "source": [
        "x = np.array([1, 2, -3])\n",
        "print(np.linalg.norm(x, ord=1))"
      ],
      "metadata": {
        "colab": {
          "base_uri": "https://localhost:8080/"
        },
        "id": "kN52b4keStSo",
        "outputId": "236ab078-f879-4c15-9eb8-ffea3860a20c"
      },
      "execution_count": null,
      "outputs": [
        {
          "output_type": "stream",
          "name": "stdout",
          "text": [
            "6.0\n"
          ]
        }
      ]
    },
    {
      "cell_type": "markdown",
      "source": [
        "# Run two algorithms and compare the results:"
      ],
      "metadata": {
        "id": "czGz9odFuMSN"
      }
    },
    {
      "cell_type": "code",
      "source": [
        "def generate_sparse_matrix(size, number_non_zero_entries):\n",
        "  diagonal_values = np.random.rand(size)  # Random values for the diagonal elements\n",
        "  diagonal_matrix = np.diag(diagonal_values)\n",
        "\n",
        "  non_zero_entries = set()\n",
        "  while len(non_zero_entries) < number_non_zero_entries:\n",
        "    row = np.random.randint(0, size)\n",
        "    column = np.random.randint(0, size)\n",
        "    if row != column and (row, column) not in non_zero_entries:\n",
        "      non_zero_entries.add((row, column))\n",
        "      diagonal_matrix[row][column] = np.random.rand()\n",
        "  return diagonal_matrix\n"
      ],
      "metadata": {
        "id": "g3m0rtIdCAHs"
      },
      "execution_count": null,
      "outputs": []
    },
    {
      "cell_type": "code",
      "source": [
        "print(generate_sparse_matrix(4, 2))\n"
      ],
      "metadata": {
        "colab": {
          "base_uri": "https://localhost:8080/"
        },
        "id": "XyGnTApo7JWI",
        "outputId": "fddb18a3-d128-4718-b87c-0ded60985866"
      },
      "execution_count": null,
      "outputs": [
        {
          "output_type": "stream",
          "name": "stdout",
          "text": [
            "[[1.96427263e-01 3.92071410e-04 0.00000000e+00 0.00000000e+00]\n",
            " [0.00000000e+00 9.87798752e-01 0.00000000e+00 0.00000000e+00]\n",
            " [0.00000000e+00 0.00000000e+00 7.74713920e-01 0.00000000e+00]\n",
            " [0.00000000e+00 7.78397965e-01 0.00000000e+00 8.52849822e-01]]\n"
          ]
        }
      ]
    },
    {
      "cell_type": "code",
      "source": [
        "# n = 100 #size of matrix\n",
        "# k = 10 #number of matrix\n",
        "# Delta = 1e-1\n",
        "# np.random.seed(1)\n",
        "# # Matrix A_i is symmetric and sparse\n",
        "# A = [generate_sparse_matrix(n, n//2) for _ in range(k)]\n",
        "# A_sym = [(X + X.T)/2 for X in A]\n",
        "# A_jax = jnp.array(A_sym)\n",
        "# b = np.random.randn(k)\n",
        "# b_jax = jnp.array(b)\n",
        "# # Initial values x_0, L_0:\n",
        "# x0 = np.random.randn(n)\n",
        "# x0_jax = jnp.array(x0)\n",
        "# L0 = L_min(A_sym, b) / 10\n",
        "# number_of_iterations = 100\n",
        "\n",
        "\n"
      ],
      "metadata": {
        "id": "IRM2ZLzaLn2Q"
      },
      "execution_count": null,
      "outputs": []
    },
    {
      "cell_type": "code",
      "source": [
        "n = 1000 #size of matrix\n",
        "k = 10 #number of matrix\n",
        "Delta = 1e-1\n",
        "np.random.seed(1)\n",
        "# Matrix A_i is symmetric and sparse\n",
        "A = [generate_sparse_matrix(n, n//2) for _ in range(k)]\n",
        "A_sym = [(X + X.T)/2 for X in A]\n",
        "b = np.random.randn(k)\n",
        "# Initial values x_0, L_0:\n",
        "x0 = np.random.randn(n)\n",
        "L0 = L_min(A_sym, b) / 500\n",
        "number_of_iterations = 1000"
      ],
      "metadata": {
        "id": "VyT1bNG57YEb"
      },
      "execution_count": null,
      "outputs": []
    },
    {
      "cell_type": "code",
      "source": [
        "# g(x0_jax * 2, A_jax, b_jax)"
      ],
      "metadata": {
        "id": "dkIyDtdj552e"
      },
      "execution_count": null,
      "outputs": []
    },
    {
      "cell_type": "code",
      "source": [
        "# L, x, Fx_N_adaptive, min_V_numerical_adaptive, min_V_theoretical_adaptive, time_adaptive = algorithm_adaptiveL(x0_jax, L0, Delta, A_jax, b_jax, number_of_iterations)\n",
        "# print(f\"Value of L_k+1: {L}\")\n",
        "# print(\"F(x_N) by adaptive algorithm\", g(x, A_jax, b_jax))\n",
        "\n",
        "\n",
        "# theta = 0\n",
        "# x_non_adaptive = []\n",
        "# Fx_N_non_adaptive = []\n",
        "# min_V_numerical_non_adaptive = []\n",
        "# min_V_theoretical_non_adaptive = []\n",
        "\n",
        "# x, F, min_V_numerical, min_V_theoretical, time_non = non_adaptive_algorithm(x0_jax, 1/L0, Delta, A_jax, b_jax, number_of_iterations)\n",
        "# print(\"F(x_N) by non adaptive algorithm with value of L: \", g(x, A_jax, b_jax))\n",
        "\n",
        "\n"
      ],
      "metadata": {
        "id": "nkk05FkQUeL9"
      },
      "execution_count": null,
      "outputs": []
    },
    {
      "cell_type": "code",
      "source": [
        "theta = 0\n",
        "x, F, min_V_numerical, min_V_theoretical, time_non = non_adaptive_algorithm(x0, 1/L0, Delta, A_sym, b, number_of_iterations)\n",
        "\n",
        "print(\"F(x_N) by non adaptive algorithm with value of L: \", L0, g(x, A_sym, b))\n",
        "\n",
        "\n",
        "L, x, Fx_N_adaptive, min_V_numerical_adaptive, min_V_theoretical_adaptive, time_adaptive = algorithm_adaptiveL(x0, 10, Delta, A_sym, b, number_of_iterations)\n",
        "print(f\"Value of L_k+1: {L}\")\n",
        "print(\"F(x_N) by adaptive algorithm\", g(x, A_sym, b))\n",
        "\n",
        "\n",
        "\n"
      ],
      "metadata": {
        "colab": {
          "base_uri": "https://localhost:8080/"
        },
        "id": "qrB6I9977bVz",
        "outputId": "989de55c-a1ca-4d80-e118-970d00f2d821"
      },
      "execution_count": null,
      "outputs": [
        {
          "output_type": "stream",
          "name": "stdout",
          "text": [
            "F(x_N) by non adaptive algorithm with value of L:  24.86365023468177 2.5925711199543717\n",
            "Value of L_k+1: 0.625\n",
            "F(x_N) by adaptive algorithm 2.619134356761565\n"
          ]
        }
      ]
    },
    {
      "cell_type": "code",
      "source": [
        "import matplotlib.pyplot as plt"
      ],
      "metadata": {
        "id": "K1X1M2BCSIAb"
      },
      "execution_count": null,
      "outputs": []
    },
    {
      "cell_type": "code",
      "source": [
        "# x = np.arange(0, number_of_iterations, 1)\n",
        "# y1 = np.array(Fx_N_adaptive)\n",
        "# y2 = np.array(F)\n",
        "\n",
        "\n",
        "# # Plot the first line\n",
        "# plt.plot(x, y1, label='Adaptive algorithm')\n",
        "# plt.plot(x, y2, label='Non Adaptive algorithm')\n",
        "\n",
        "\n",
        "\n",
        "# # Add title and labels\n",
        "# plt.title('Value of F(x_N)')\n",
        "# plt.xlabel('N')\n",
        "# plt.ylabel('F(x_N)')\n",
        "\n",
        "# # Add legend\n",
        "# plt.legend()"
      ],
      "metadata": {
        "id": "VVvO5qPwyYfj"
      },
      "execution_count": null,
      "outputs": []
    },
    {
      "cell_type": "code",
      "source": [
        "print(F[980:])"
      ],
      "metadata": {
        "colab": {
          "base_uri": "https://localhost:8080/"
        },
        "id": "m_nzDIZS-Kua",
        "outputId": "a5767c95-c45a-4d89-e660-255b3bd777ca"
      },
      "execution_count": null,
      "outputs": [
        {
          "output_type": "stream",
          "name": "stdout",
          "text": [
            "[2.5928315941729414, 2.5928174216979434, 2.5928027392139352, 2.59278764557673, 2.5927726548364913, 2.59275902872212, 2.592746109562371, 2.592729094232687, 2.59271607549051, 2.5927005637264635, 2.592687986726237, 2.592671738997608, 2.592662003540801, 2.5926472702478356, 2.5926343123428235, 2.592621246144807, 2.5926092491340778, 2.592596133049615, 2.59258215249177, 2.5925711199543717]\n"
          ]
        }
      ]
    },
    {
      "cell_type": "code",
      "source": [
        "from google.colab import drive\n",
        "x = np.arange(0, number_of_iterations, 1)\n",
        "y1 = np.array(Fx_N_adaptive)\n",
        "y2 = np.array(F)\n",
        "\n",
        "# Plot the lines\n",
        "plt.figure(figsize=(8, 6))\n",
        "plt.plot(x, y1, label='Adaptive $L$', color='black')\n",
        "plt.plot(x, y2, label='Non-adaptive $L$', linestyle=':', color='black')\n",
        "\n",
        "\n",
        "# Set logarithmic scale for y-axis\n",
        "# plt.yscale('log')\n",
        "\n",
        "# Add title and labels\n",
        "plt.xlabel('Number of iteration $k$')\n",
        "plt.ylabel('Value of $f(x_k)$')\n",
        "plt.yscale('log')\n",
        "\n",
        "# Add legend\n",
        "plt.legend()\n",
        "\n",
        "# Display grid\n",
        "plt.grid(True, ls=\"-\", linewidth=0.5)\n",
        "drive.mount('/content/drive')\n",
        "plt.savefig('/content/drive/My Drive/fig-f(x_k).png', dpi=300, bbox_inches='tight')\n",
        "# Show plot\n",
        "plt.show()\n"
      ],
      "metadata": {
        "colab": {
          "base_uri": "https://localhost:8080/",
          "height": 580
        },
        "id": "zFx35H13Tn_K",
        "outputId": "2b0fad65-2a88-4bae-c6f3-1a9aaae464ae"
      },
      "execution_count": null,
      "outputs": [
        {
          "output_type": "stream",
          "name": "stdout",
          "text": [
            "Drive already mounted at /content/drive; to attempt to forcibly remount, call drive.mount(\"/content/drive\", force_remount=True).\n"
          ]
        },
        {
          "output_type": "display_data",
          "data": {
            "text/plain": [
              "<Figure size 800x600 with 1 Axes>"
            ],
            "image/png": "[encoded data removed]"
          },
          "metadata": {}
        }
      ]
    },
    {
      "cell_type": "code",
      "source": [
        "from google.colab import drive\n",
        "x = np.arange(0, number_of_iterations, 1)\n",
        "y1 = np.array(time_adaptive)\n",
        "y2 = np.array(time_non)\n",
        "\n",
        "# Plot the lines\n",
        "plt.figure(figsize=(8, 6))\n",
        "plt.plot(x, y1, label='Adaptive $L$', color='black')\n",
        "plt.plot(x, y2, label='Non-adaptive $L$', linestyle=':', color='black')\n",
        "\n",
        "\n",
        "# Set logarithmic scale for y-axis\n",
        "# plt.yscale('log')\n",
        "\n",
        "# Add title and labels\n",
        "plt.xlabel('Number of iteration $k$')\n",
        "plt.ylabel('Time (sec)')\n",
        "# plt.yscale('log')\n",
        "\n",
        "# Add legend\n",
        "plt.legend()\n",
        "\n",
        "# Display grid\n",
        "plt.grid(True, ls=\"-\", linewidth=0.5)\n",
        "drive.mount('/content/drive')\n",
        "plt.savefig('/content/drive/My Drive/fig-time.png', dpi=300, bbox_inches='tight')\n",
        "# Show plot\n",
        "plt.show()"
      ],
      "metadata": {
        "colab": {
          "base_uri": "https://localhost:8080/",
          "height": 580
        },
        "id": "oa8UUVwkDRr0",
        "outputId": "aeee97e9-fcc0-4ddf-ae31-e9c94c17fcd9"
      },
      "execution_count": null,
      "outputs": [
        {
          "output_type": "stream",
          "name": "stdout",
          "text": [
            "Drive already mounted at /content/drive; to attempt to forcibly remount, call drive.mount(\"/content/drive\", force_remount=True).\n"
          ]
        },
        {
          "output_type": "display_data",
          "data": {
            "text/plain": [
              "<Figure size 800x600 with 1 Axes>"
            ],
            "image/png": "[encoded data removed]"
          },
          "metadata": {}
        }
      ]
    },
    {
      "cell_type": "code",
      "source": [
        "from google.colab import drive\n",
        "x = np.arange(0, number_of_iterations, 1)\n",
        "y1 = np.array(min_V_numerical_adaptive)\n",
        "y2 = np.array(min_V_numerical)\n",
        "\n",
        "# Plot the lines\n",
        "plt.figure(figsize=(8, 6))\n",
        "plt.plot(x, y1, label='Adaptive $L$', color='black')\n",
        "plt.plot(x, y2, label='Non-adaptive $L$', linestyle=':', color='black')\n",
        "\n",
        "\n",
        "# Set logarithmic scale for y-axis\n",
        "# plt.yscale('log')\n",
        "\n",
        "# Add title and labels\n",
        "plt.xlabel('Number of iteration $k$')\n",
        "plt.ylabel('min $V(x_{k}, x_{k + 1})$')\n",
        "# plt.yscale('log')\n",
        "\n",
        "# Add legend\n",
        "plt.legend()\n",
        "\n",
        "# Display grid\n",
        "plt.grid(True, ls=\"-\", linewidth=0.5)\n",
        "drive.mount('/content/drive')\n",
        "plt.savefig('/content/drive/My Drive/fig-minV.png', dpi=300, bbox_inches='tight')\n",
        "# Show plot\n",
        "plt.show()"
      ],
      "metadata": {
        "colab": {
          "base_uri": "https://localhost:8080/",
          "height": 580
        },
        "id": "gRrXhFJcEkTH",
        "outputId": "c4b7832d-b6ad-41c2-b5e3-231cff52a27e"
      },
      "execution_count": null,
      "outputs": [
        {
          "output_type": "stream",
          "name": "stdout",
          "text": [
            "Drive already mounted at /content/drive; to attempt to forcibly remount, call drive.mount(\"/content/drive\", force_remount=True).\n"
          ]
        },
        {
          "output_type": "display_data",
          "data": {
            "text/plain": [
              "<Figure size 800x600 with 1 Axes>"
            ],
            "image/png": "[encoded data removed]"
          },
          "metadata": {}
        }
      ]
    },
    {
      "cell_type": "code",
      "source": [
        "from google.colab import drive\n",
        "x = np.arange(10, number_of_iterations, 1)\n",
        "y1 = np.array(min_V_numerical_adaptive[10:])\n",
        "y2 = np.array(min_V_numerical[10:])\n",
        "\n",
        "# Plot the lines\n",
        "plt.figure(figsize=(8, 6))\n",
        "plt.plot(x, y1, label='Adaptive $L$', color='black')\n",
        "plt.plot(x, y2, label='Non-adaptive $L$', linestyle=':', color='black')\n",
        "\n",
        "\n",
        "# Set logarithmic scale for y-axis\n",
        "# plt.yscale('log')\n",
        "\n",
        "# Add title and labels\n",
        "plt.xlabel('Number of iteration $k$')\n",
        "plt.ylabel('min $V(x_{k}, x_{k + 1})$')\n",
        "# plt.yscale('log')\n",
        "\n",
        "# Add legend\n",
        "plt.legend()\n",
        "\n",
        "# Display grid\n",
        "plt.grid(True, ls=\"-\", linewidth=0.5)\n",
        "drive.mount('/content/drive')\n",
        "plt.savefig('/content/drive/My Drive/fig-minV-crop.png', dpi=300, bbox_inches='tight')\n",
        "# Show plot\n",
        "plt.show()"
      ],
      "metadata": {
        "colab": {
          "base_uri": "https://localhost:8080/",
          "height": 580
        },
        "id": "jbZBD78DPVDH",
        "outputId": "8d898663-e771-4b50-fed4-e58047379fe1"
      },
      "execution_count": null,
      "outputs": [
        {
          "output_type": "stream",
          "name": "stdout",
          "text": [
            "Drive already mounted at /content/drive; to attempt to forcibly remount, call drive.mount(\"/content/drive\", force_remount=True).\n"
          ]
        },
        {
          "output_type": "display_data",
          "data": {
            "text/plain": [
              "<Figure size 800x600 with 1 Axes>"
            ],
            "image/png": "[encoded data removed]"
          },
          "metadata": {}
        }
      ]
    },
    {
      "cell_type": "code",
      "source": [
        "print(min(min_V_numerical_adaptive))"
      ],
      "metadata": {
        "colab": {
          "base_uri": "https://localhost:8080/"
        },
        "id": "6E08Sqb2NKmR",
        "outputId": "562fe0f2-6313-488d-d2e7-c163138633eb"
      },
      "execution_count": null,
      "outputs": [
        {
          "output_type": "stream",
          "name": "stdout",
          "text": [
            "0.0017498781385369248\n"
          ]
        }
      ]
    },
    {
      "cell_type": "code",
      "source": [
        "len(min_V_theoretical)"
      ],
      "metadata": {
        "id": "5FJ_I3-wGLZ7",
        "colab": {
          "base_uri": "https://localhost:8080/"
        },
        "outputId": "de0c24ff-6b2d-4990-fa3b-6e89d438fde7"
      },
      "execution_count": null,
      "outputs": [
        {
          "output_type": "execute_result",
          "data": {
            "text/plain": [
              "999"
            ]
          },
          "metadata": {},
          "execution_count": 34
        }
      ]
    },
    {
      "cell_type": "code",
      "source": [
        "from google.colab import drive\n",
        "x = np.arange(0, number_of_iterations - 1, 1)\n",
        "y1 = np.array(min_V_theoretical_adaptive)\n",
        "y2 = np.array(min_V_theoretical)\n",
        "\n",
        "# Plot the lines\n",
        "plt.figure(figsize=(8, 6))\n",
        "plt.plot(x, y1, label='Adaptive $L$', color='black')\n",
        "plt.plot(x, y2, label='Non-adaptive $L$', linestyle=':', color='black')\n",
        "\n",
        "\n",
        "# Set logarithmic scale for y-axis\n",
        "# plt.yscale('log')\n",
        "\n",
        "# Add title and labels\n",
        "plt.xlabel('Number of iteration $k$')\n",
        "plt.ylabel('Theoretical estimation of $V(x_{k}, x_{k + 1})$')\n",
        "# plt.yscale('log')\n",
        "\n",
        "# Add legend\n",
        "plt.legend()\n",
        "\n",
        "# Display grid\n",
        "plt.grid(True, ls=\"-\", linewidth=0.5)\n",
        "drive.mount('/content/drive')\n",
        "plt.savefig('/content/drive/My Drive/fig-theoretical_estimate.png', dpi=300, bbox_inches='tight')\n",
        "# Show plot\n",
        "plt.show()"
      ],
      "metadata": {
        "id": "IlTssYnMoXhU",
        "colab": {
          "base_uri": "https://localhost:8080/",
          "height": 580
        },
        "outputId": "15d1ee19-3ec2-4c87-c072-5c3253cab5d3"
      },
      "execution_count": null,
      "outputs": [
        {
          "output_type": "stream",
          "name": "stdout",
          "text": [
            "Drive already mounted at /content/drive; to attempt to forcibly remount, call drive.mount(\"/content/drive\", force_remount=True).\n"
          ]
        },
        {
          "output_type": "display_data",
          "data": {
            "text/plain": [
              "<Figure size 800x600 with 1 Axes>"
            ],
            "image/png": "[encoded data removed]"
          },
          "metadata": {}
        }
      ]
    },
    {
      "cell_type": "code",
      "source": [
        "min_V_theoretical_adaptive[20]"
      ],
      "metadata": {
        "id": "PT5lC1yaF1FA",
        "colab": {
          "base_uri": "https://localhost:8080/"
        },
        "outputId": "644d8dd9-c713-4ad7-bcb5-80c8b4709bb7"
      },
      "execution_count": null,
      "outputs": [
        {
          "output_type": "execute_result",
          "data": {
            "text/plain": [
              "32649.005090055398"
            ]
          },
          "metadata": {},
          "execution_count": 36
        }
      ]
    },
    {
      "cell_type": "code",
      "source": [
        "def stopping_rule_non_adaptive_algorithm(x_old, lamb, Delta, A, b, epsilon):\n",
        "  V = 1e10\n",
        "  time_measure = 0\n",
        "  f_0 = g(x_old, A, b)\n",
        "  i = 0\n",
        "  while V > epsilon:\n",
        "    start = time.time()\n",
        "    p = lamb * grad_inexact(grad_g(x_old, A, b), x_old, Delta) - grad_h(x_old)\n",
        "    a = np.linalg.norm(p) ** 2\n",
        "    t = solve_cubic_equation(a)\n",
        "    x_new = (-1) * t * p\n",
        "    V = D(x_old, x_new)\n",
        "\n",
        "    x_old = x_new\n",
        "    end = time.time()\n",
        "    time_measure += end - start\n",
        "    i += 1\n",
        "  return i, V, time_measure"
      ],
      "metadata": {
        "id": "yOMbxkVLW299"
      },
      "execution_count": null,
      "outputs": []
    },
    {
      "cell_type": "code",
      "source": [
        "def stopping_rule_adaptive_algoritm(x_old, L, Delta, A, b, epsilon):\n",
        "  V = 1e10\n",
        "  time_measure = 0\n",
        "  f_0 = g(x_old, A, b)\n",
        "  i = 0\n",
        "  L_old = L\n",
        "  while V > epsilon:\n",
        "    # D: V(x_k+1, x_k)\n",
        "    start = time.time()\n",
        "    L_new, x_new, V = adaptiveL(x_old, L_old, Delta, A, b)\n",
        "\n",
        "    L_old, x_old = L_new, x_new\n",
        "    end = time.time()\n",
        "\n",
        "    time_measure += end - start\n",
        "    i += 1\n",
        "  return i, V, time_measure"
      ],
      "metadata": {
        "id": "1kIigiAMTQ5G"
      },
      "execution_count": null,
      "outputs": []
    },
    {
      "cell_type": "code",
      "source": [
        "L0 = L_min(A_sym, b) / 500\n",
        "Delta = 0.1"
      ],
      "metadata": {
        "id": "JVDg47L38cbX"
      },
      "execution_count": null,
      "outputs": []
    },
    {
      "cell_type": "code",
      "source": [
        "epsilon = [1e-01, 1e-02, 1e-03, 1e-04, 1e-05, 1e-06, 1e-07]\n",
        "\n",
        "\n",
        "for e in epsilon:\n",
        "  N, V, time_needed = stopping_rule_non_adaptive_algorithm(x0, 1/L0, e, A_sym, b, e)\n",
        "  print(f\"Non-adaptive: When epsilon = {e} then N: {N}, min V: {V}, time needed: {time_needed}\")\n",
        "  print()\n"
      ],
      "metadata": {
        "colab": {
          "base_uri": "https://localhost:8080/"
        },
        "id": "irFKv0tMOYPr",
        "outputId": "e2bfbb82-f3a4-41fc-a34f-7034c7c361cf"
      },
      "execution_count": null,
      "outputs": [
        {
          "output_type": "stream",
          "name": "stdout",
          "text": [
            "Non-adaptive: When epsilon = 0.1 then N: 133, min V: 0.09799087915260607, time needed: 2.981177568435669\n",
            "\n",
            "Non-adaptive: When epsilon = 0.01 then N: 229, min V: 0.00983385661587688, time needed: 5.4354071617126465\n",
            "\n",
            "Non-adaptive: When epsilon = 0.001 then N: 356, min V: 0.0009961874211820154, time needed: 8.77853798866272\n",
            "\n",
            "Non-adaptive: When epsilon = 0.0001 then N: 497, min V: 9.915452229226213e-05, time needed: 12.603062629699707\n",
            "\n",
            "Non-adaptive: When epsilon = 1e-05 then N: 645, min V: 9.86350755882541e-06, time needed: 15.583673238754272\n",
            "\n",
            "Non-adaptive: When epsilon = 1e-06 then N: 840, min V: 9.943314485158343e-07, time needed: 22.137583255767822\n",
            "\n",
            "Non-adaptive: When epsilon = 1e-07 then N: 1124, min V: 9.991930913750579e-08, time needed: 27.032551288604736\n",
            "\n"
          ]
        }
      ]
    },
    {
      "cell_type": "code",
      "source": [
        "for e in epsilon:\n",
        "  N1, V1, time_needed1 = stopping_rule_adaptive_algoritm(x0, 10, e, A_sym, b, e)\n",
        "  print(f\"Adaptive: When epsilon = {e} then N: {N1}, min V: {V1}, time needed: {time_needed1}\")\n",
        "  print()"
      ],
      "metadata": {
        "colab": {
          "base_uri": "https://localhost:8080/"
        },
        "id": "6VA8TddOO2Md",
        "outputId": "b2964e10-c1d4-489f-b9b2-ac3ed1bd476d"
      },
      "execution_count": null,
      "outputs": [
        {
          "output_type": "stream",
          "name": "stdout",
          "text": [
            "Adaptive: When epsilon = 0.1 then N: 19, min V: 0.06796470914403407, time needed: 4.871561765670776\n",
            "\n",
            "Adaptive: When epsilon = 0.01 then N: 23, min V: 0.005446113909461919, time needed: 4.087460041046143\n",
            "\n",
            "Adaptive: When epsilon = 0.001 then N: 29, min V: 0.0007631745603785701, time needed: 6.324114799499512\n",
            "\n",
            "Adaptive: When epsilon = 0.0001 then N: 42, min V: 9.490307636803616e-05, time needed: 12.113146781921387\n",
            "\n",
            "Adaptive: When epsilon = 1e-05 then N: 59, min V: 9.68104334640862e-06, time needed: 12.571793794631958\n",
            "\n",
            "Adaptive: When epsilon = 1e-06 then N: 105, min V: 9.272636365610054e-07, time needed: 27.11829662322998\n",
            "\n",
            "Adaptive: When epsilon = 1e-07 then N: 206, min V: 7.997412063188934e-08, time needed: 43.79077100753784\n",
            "\n"
          ]
        }
      ]
    },
    {
      "cell_type": "code",
      "source": [],
      "metadata": {
        "id": "b_58iwvfq1aW"
      },
      "execution_count": null,
      "outputs": []
    }
  ]
}